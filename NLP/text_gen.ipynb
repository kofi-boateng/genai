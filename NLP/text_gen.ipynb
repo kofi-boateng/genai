{
 "cells": [
  {
   "cell_type": "code",
   "execution_count": null,
   "id": "f1bde980-3e58-44ac-8788-e75353e1a37d",
   "metadata": {},
   "outputs": [],
   "source": [
    "import streamlit as st\n",
    "from transformers import pipeline\n",
    "from transformers import AutoTokenizer, T5Tokenizer\n",
    "from transformers import T5ForConditionalGeneration"
   ]
  },
  {
   "cell_type": "code",
   "execution_count": null,
   "id": "a8454ab6-96ff-4fb0-a54a-5faa95ddf998",
   "metadata": {},
   "outputs": [],
   "source": [
    "## Sentiment-Analysis/Classification\n",
    "classifier = pipeline(\"zero-shot-classification\", model=\"facebook/bart-large-mnli\")\n",
    "\n",
    "## Translation from English to German\n",
    "model_name = \"google/flan-t5-large\"\n",
    "flan_tokenizer = T5Tokenizer.from_pretrained(model_name)\n",
    "flan_model = T5ForConditionalGeneration.from_pretrained(model_name)\n",
    "\n",
    "## Summarization\n",
    "bart_model_name = \"facebook/bart-large-cnn\"\n",
    "summarizer = pipeline(\"summarization\", model=bart_model_name)\n",
    "\n",
    "# Functio9n to classify sequence\n",
    "def classify_text(sequence_to_classify, candidate_labels):\n",
    "    results = classifier(sequence_to_classify, candidate_labels)\n",
    "    max_value, max_index = max((value, index) for index, value in enumerate(results[\"scores\"]))\n",
    "    st.write(((results[\"labels\"])[max_index]).upper())\n",
    "\n",
    "# Function to Translate text\n",
    "def generate_text(prompt_text):\n",
    "    text_embeddings = flan_tokenizer(\"Translate text from English to German: \" + prompt_text, return_tensors=\"pt\").input_ids\n",
    "    model_output = flan_model.generate(text_embeddings, max_new_tokens=50)\n",
    "    #Decode and print response\n",
    "    del_response = flan_tokenizer.decode(model_output[0], skip_special_tokens=True)\n",
    "    st.write(del_response)\n",
    "\n",
    "# Function to summarize text\n",
    "def summarize_text(prompt_text):\n",
    "    st.write(summarizer(prompt_text, max_length=130, min_length=30, do_sample=False)[0][\"summary_text\"])\n",
    "\n",
    "## add in casual language modeling include prompt engineering + finetuning\n",
    "    \n",
    "    \n",
    "# Function to start chatbot\n",
    "def start_chatbot(prompt_text):\n",
    "    pass\n",
    "    st.write(\" \")\n",
    "\n",
    "if __name__ == \"__main__\":\n",
    "    st.title(\"Generative AI Use Cases\")\n",
    "    prompt_text = st.text_input(\"Translate English to German:\", value=\" \")\n",
    "    if prompt_text != \" \":\n",
    "        generate_text(prompt_text)\n",
    "\n",
    "    seq2classify = st.text_input(\"Sequence to classify\", value=\" \")\n",
    "    if seq2classify != \" \":\n",
    "        candidate_labels = ['POSITIVE', 'NEUTRAL', 'NEGATIVE']\n",
    "        classify_text(seq2classify, candidate_labels)\n",
    "\n",
    "    prompt_text_sum = st.text_input(\"Enter text to summarize:\", value=\" \")\n",
    "    if prompt_text_sum != \" \":\n",
    "        summarize_text(prompt_text_sum)\n"
   ]
  }
 ],
 "metadata": {
  "kernelspec": {
   "display_name": "Python 3 (ipykernel)",
   "language": "python",
   "name": "python3"
  },
  "language_info": {
   "codemirror_mode": {
    "name": "ipython",
    "version": 3
   },
   "file_extension": ".py",
   "mimetype": "text/x-python",
   "name": "python",
   "nbconvert_exporter": "python",
   "pygments_lexer": "ipython3",
   "version": "3.11.8"
  }
 },
 "nbformat": 4,
 "nbformat_minor": 5
}
